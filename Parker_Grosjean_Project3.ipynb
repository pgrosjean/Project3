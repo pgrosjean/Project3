{
 "cells": [
  {
   "cell_type": "code",
   "execution_count": 1,
   "metadata": {},
   "outputs": [],
   "source": [
    "# importing dependencies\n",
    "import numpy as np\n",
    "from tqdm import tqdm\n",
    "import matplotlib.pyplot as plt\n",
    "\n",
    "# importing scripts module\n",
    "from scripts import NN\n",
    "from scripts import io\n",
    "from scripts import preprocess"
   ]
  },
  {
   "cell_type": "markdown",
   "metadata": {},
   "source": [
    "# Part 1: Autoencoder Implementation"
   ]
  },
  {
   "cell_type": "markdown",
   "metadata": {},
   "source": [
    "## (1) Constructing and Training an 8x3x8 Autoencoder"
   ]
  },
  {
   "cell_type": "code",
   "execution_count": 5,
   "metadata": {},
   "outputs": [
    {
     "data": {
      "image/png": "[encoded data removed]",
      "text/plain": [
       "<Figure size 432x288 with 1 Axes>"
      ]
     },
     "metadata": {
      "needs_background": "light"
     },
     "output_type": "display_data"
    },
    {
     "name": "stdout",
     "output_type": "stream",
     "text": [
      "AE Reconstruction\n"
     ]
    },
    {
     "data": {
      "image/png": "[encoded data removed]",
      "text/plain": [
       "<Figure size 432x288 with 1 Axes>"
      ]
     },
     "metadata": {
      "needs_background": "light"
     },
     "output_type": "display_data"
    },
    {
     "name": "stdout",
     "output_type": "stream",
     "text": [
      "Ground Truth\n"
     ]
    },
    {
     "data": {
      "image/png": "[encoded data removed]",
      "text/plain": [
       "<Figure size 432x288 with 1 Axes>"
      ]
     },
     "metadata": {
      "needs_background": "light"
     },
     "output_type": "display_data"
    }
   ],
   "source": [
    "# Defining neccessary hyperparameters for the autoencoder\n",
    "nn_architecture = [{'input_dim': 8, 'output_dim': 3, 'activation': 'sigmoid'}, \n",
    "                   {'input_dim': 3, 'output_dim': 8, 'activation': 'sigmoid'}]\n",
    "loss_function = 'binary_crossentropy'\n",
    "learning_rate = 1\n",
    "seed = 14\n",
    "epochs = 8000\n",
    "\n",
    "# Generating autoencoder NN class instance\n",
    "identity_ae = NN.NeuralNetwork(nn_architecture, lr=learning_rate, seed=seed, epochs=epochs, loss_function=loss_function)\n",
    "\n",
    "# Defining Data for use in the autoencoder\n",
    "X = np.eye(8,8)\n",
    "y = X\n",
    "\n",
    "# Training the Auto Encoder\n",
    "per_epoch_loss_train, per_epoch_loss_val = identity_ae.fit(X, y, X, y)\n",
    "\n",
    "# plotting Loss Curve\n",
    "fig = plt.figure()\n",
    "plt.plot(np.arange(len(per_epoch_loss_train)), per_epoch_loss_train)\n",
    "plt.xlabel('epochs')\n",
    "plt.ylabel('loss')\n",
    "plt.show()\n",
    "\n",
    "\n",
    "# Plotting input vs output to show comparability\n",
    "print('AE Reconstruction')\n",
    "plt.imshow(identity_ae.predict(X))\n",
    "plt.show()\n",
    "print('Ground Truth')\n",
    "plt.imshow(X)\n",
    "plt.show()"
   ]
  },
  {
   "cell_type": "markdown",
   "metadata": {},
   "source": [
    "# Part 2: Adapt for classification, and develop training regime"
   ]
  },
  {
   "cell_type": "markdown",
   "metadata": {},
   "source": [
    "## (2) Encoding DNA sequences"
   ]
  },
  {
   "cell_type": "code",
   "execution_count": 5,
   "metadata": {},
   "outputs": [],
   "source": [
    "# Reading in postive sequences\n",
    "positive_seqs = io.read_text_file('./data/rap1-lieb-positives.txt')\n",
    "\n",
    "# Reading in upstream yeast sequences\n",
    "pot_neg_seqs = io.read_fasta_file('./data/yeast-upstream-1k-negative.fa')\n",
    "\n",
    "# Randomly sampling negative sequences\n",
    "negative_seqs = preprocess.sample_negative_examples(pot_neg_seqs, positive_seqs, num_samples=4000, seq_length=17)\n",
    "\n",
    "# Generating labels\n",
    "pos_labels = np.expand_dims(np.array([1]*len(positive_seqs)), axis=0)\n",
    "neg_labels = np.expand_dims(np.array([1]*len(negative_seqs)), axis=0)\n",
    "labels = np.hstack([pos_labels, neg_labels])\n",
    "\n",
    "# Generating Unraveled One Hot Encoded Input Feauture --> 4*seq_length\n",
    "pos_input = preprocess.encode_seqs(positive_seqs)\n",
    "neg_input = preprocess.encode_seqs(negative_seqs)"
   ]
  },
  {
   "cell_type": "markdown",
   "metadata": {},
   "source": [
    "## (3) Defining Training Regimine"
   ]
  },
  {
   "cell_type": "markdown",
   "metadata": {},
   "source": [
    "## (4) Training NN model to predict Rap1 binding"
   ]
  },
  {
   "cell_type": "code",
   "execution_count": null,
   "metadata": {},
   "outputs": [],
   "source": [
    "# Defining neccessary hyperparameters for the NN model\n",
    "nn_architecture = [{'input_dim': 68, 'output_dim': 50, 'activation': 'sigmoid'}, \n",
    "                   {'input_dim': 50, 'output_dim': 1, 'activation': 'sigmoid'}]\n",
    "loss_function = 'binary_crossentropy'\n",
    "learning_rate = 1\n",
    "seed = 14\n",
    "epochs = 8000\n",
    "\n",
    "# Generating NN class instance for binary classifier\n",
    "bc_nn = NN.NeuralNetwork(nn_architecture, lr=learning_rate, seed=seed, epochs=epochs, loss_function=loss_function)\n",
    "\n",
    "# Doing sinlge fold training split\n",
    "\n",
    "# Training Model\n",
    "per_epoch_loss_train, per_epoch_loss_val = identity_ae.fit(X, y, X, y)"
   ]
  },
  {
   "cell_type": "code",
   "execution_count": null,
   "metadata": {},
   "outputs": [],
   "source": []
  },
  {
   "cell_type": "markdown",
   "metadata": {},
   "source": [
    "# Part 3: Cross-Validation"
   ]
  },
  {
   "cell_type": "markdown",
   "metadata": {},
   "source": [
    "## (5) K-fold CV for Evaluating NN Model's Classification"
   ]
  },
  {
   "cell_type": "markdown",
   "metadata": {},
   "source": [
    "# Part 4: Project Extension"
   ]
  },
  {
   "cell_type": "markdown",
   "metadata": {},
   "source": [
    "# Part 5: Evaluating Model on Final Set"
   ]
  },
  {
   "cell_type": "markdown",
   "metadata": {},
   "source": [
    "# Part 6: Automated Testing with Github Workflows"
   ]
  },
  {
   "cell_type": "code",
   "execution_count": null,
   "metadata": {},
   "outputs": [],
   "source": []
  }
 ],
 "metadata": {
  "kernelspec": {
   "display_name": "Python 3",
   "language": "python",
   "name": "python3"
  },
  "language_info": {
   "codemirror_mode": {
    "name": "ipython",
    "version": 3
   },
   "file_extension": ".py",
   "mimetype": "text/x-python",
   "name": "python",
   "nbconvert_exporter": "python",
   "pygments_lexer": "ipython3",
   "version": "3.7.9"
  }
 },
 "nbformat": 4,
 "nbformat_minor": 4
}
